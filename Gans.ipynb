{
 "cells": [
  {
   "cell_type": "markdown",
   "metadata": {},
   "source": [
    "Implementation of a GAN for CIFAR-10 dataset"
   ]
  },
  {
   "cell_type": "code",
   "execution_count": 13,
   "metadata": {},
   "outputs": [],
   "source": [
    "import torch\n",
    "from torch.autograd import Variable\n",
    "import torch.nn as nn\n",
    "import matplotlib.pyplot as plt\n",
    "import torchvision\n",
    "import torchvision.datasets as dsets\n",
    "import torchvision.transforms as transforms\n",
    "import numpy as np\n",
    "import os\n"
   ]
  },
  {
   "cell_type": "code",
   "execution_count": 14,
   "metadata": {},
   "outputs": [
    {
     "name": "stdout",
     "output_type": "stream",
     "text": [
      "==> Preparing data..\n",
      "Files already downloaded and verified\n"
     ]
    }
   ],
   "source": [
    "print('==> Preparing data..')\n",
    "\n",
    "#Just performing some transfomations on the image\n",
    "transform_train = transforms.Compose([\n",
    "        transforms.ToTensor()\n",
    "])  \n",
    "\n",
    "# So we need CIFAR-10 dataset , pytorch provides it!\n",
    "trainset = torchvision.datasets.CIFAR10(root='./data', train=True, download=True, transform=transform_train)\n",
    "trainloader = torch.utils.data.DataLoader(trainset, batch_size=50, shuffle=True, num_workers=2)"
   ]
  },
  {
   "cell_type": "code",
   "execution_count": 15,
   "metadata": {},
   "outputs": [],
   "source": [
    "#Labels of Cifar-10 \n",
    "classes = ('plane', 'car', 'bird', 'cat', 'deer', 'dog', 'frog', 'horse', 'ship', 'truck')\n",
    "\n",
    "#Hyper-Parameters--\n",
    "\n",
    "#setting the learning rate\n",
    "lr = 0.0002\n",
    "\n",
    "#Number of samples to take a random distribution from\n",
    "rand_num = 9\n",
    "\n",
    "#Number of epochs\n",
    "num_epochs = 200\n",
    "\n",
    "#select min batch size\n",
    "batch_size = 50\n",
    "\n",
    "#Number of batches per Epoch\n",
    "num_batches = len(trainloader)"
   ]
  },
  {
   "cell_type": "markdown",
   "metadata": {},
   "source": [
    "# The Generator Network!"
   ]
  },
  {
   "cell_type": "code",
   "execution_count": 19,
   "metadata": {},
   "outputs": [],
   "source": [
    "#Just a CNN with 4 convolution layers and 1 fully connected layers!\n",
    "class Generator(nn.Module):\n",
    "    def __init__(self):\n",
    "        super(Generator, self).__init__()\n",
    "        self.model = nn.Sequential(\n",
    "            nn.Linear(100, 4*4*256),\n",
    "            nn.LeakyReLU()\n",
    "        )\n",
    "\n",
    "        self.cnn = nn.Sequential(\n",
    "            nn.ConvTranspose2d(256, 128, 3, stride=2, padding=0, output_padding=0),\n",
    "            nn.LeakyReLU(),\n",
    "            nn.ConvTranspose2d(128, 64, 3, stride=2, padding=1, output_padding=0),\n",
    "            nn.LeakyReLU(),\n",
    "            nn.ConvTranspose2d(64, 64, 3, stride=2, padding=2, output_padding=1),\n",
    "            nn.LeakyReLU(),\n",
    "            nn.Conv2d(64, 3, 3, stride=1, padding=1),\n",
    "            nn.Tanh()\n",
    "        )\n",
    "\n",
    "    def forward(self, z):\n",
    "        x = self.model(z)\n",
    "        x = x.view(-1, 256, 4, 4)\n",
    "        x = self.cnn(x)\n",
    "        return x\n"
   ]
  },
  {
   "cell_type": "markdown",
   "metadata": {},
   "source": [
    "# The Discriminator Network!"
   ]
  },
  {
   "cell_type": "code",
   "execution_count": 20,
   "metadata": {},
   "outputs": [],
   "source": [
    "class Discriminator(nn.Module):\n",
    "    def __init__(self):\n",
    "        super(Discriminator, self).__init__()\n",
    "        self.cnn = nn.Sequential(\n",
    "            nn.Conv2d(3, 64, 3, stride=1, padding=1),\n",
    "            nn.LeakyReLU(),\n",
    "            nn.MaxPool2d(2, 2),\n",
    "            nn.Conv2d(64, 128, 3, stride=1, padding=1),\n",
    "            nn.LeakyReLU(),\n",
    "            nn.MaxPool2d(2, 2),\n",
    "            nn.Conv2d(128, 256, 3, stride=1, padding=1),\n",
    "            nn.LeakyReLU(),\n",
    "            nn.MaxPool2d(2, 2)\n",
    "        )\n",
    "        self.fc = nn.Sequential(\n",
    "            nn.Linear(4*4*256, 128),\n",
    "            nn.LeakyReLU(),\n",
    "            nn.Dropout(0.5),\n",
    "            nn.Linear(128, 1),\n",
    "            nn.Sigmoid()\n",
    "        )\n",
    "\n",
    "    def forward(self, x):\n",
    "        x = self.cnn(x)\n",
    "        x = x.view(-1, 4*4*256)\n",
    "        x = self.fc(x)\n",
    "        return x"
   ]
  },
  {
   "cell_type": "code",
   "execution_count": 21,
   "metadata": {},
   "outputs": [],
   "source": [
    "discriminator = Discriminator()\n",
    "generator = Generator()\n",
    "\n",
    "# The classification loss of Discriminator, binary classification, 1 -> real sample, 0 -> fake sample\n",
    "criterion = nn.BCELoss()\n",
    "\n",
    "# Define optimizers\n",
    "optimizer_d = torch.optim.Adam(discriminator.parameters(), lr=lr)\n",
    "optimizer_g = torch.optim.Adam(generator.parameters(), lr=lr)\n",
    "\n",
    "# Draw 9 samples from the input distribution as a fixed test set\n",
    "# Can follow how the generator output evolves\n",
    "rand_z = Variable(torch.randn(rand_num, 100))"
   ]
  },
  {
   "cell_type": "code",
   "execution_count": null,
   "metadata": {},
   "outputs": [
    {
     "name": "stderr",
     "output_type": "stream",
     "text": [
      "/usr/local/lib/python2.7/dist-packages/torch/nn/functional.py:767: UserWarning: Using a target size (torch.Size([50])) that is different to the input size (torch.Size([50, 1])) is deprecated. Please ensure they have the same size.\n",
      "  \"Please ensure they have the same size.\".format(target.size(), input.size()))\n"
     ]
    },
    {
     "name": "stdout",
     "output_type": "stream",
     "text": [
      "epoch: 0 - loss_d: 1.38936007023 - loss_g: 0.674995243549\n",
      "epoch: 0 - loss_d: 0.721411108971 - loss_g: 0.84409737587\n",
      "epoch: 0 - loss_d: 0.125584468246 - loss_g: 2.55602574348\n",
      "epoch: 0 - loss_d: 1.94820356369 - loss_g: 2.07185554504\n"
     ]
    }
   ],
   "source": [
    "gen_loss=[]\n",
    "dis_loss=[]\n",
    "\n",
    "for ep in range(num_epochs):\n",
    "    for n, (images, _) in enumerate(trainloader):\n",
    "\n",
    "        images = Variable(images)\n",
    "        labels_real = Variable(torch.ones(batch_size))       # Labels for real images - all ones\n",
    "        labels_fake = Variable(torch.zeros(batch_size))      # Labels for fake images - all ones\n",
    "\n",
    "        # Train the discriminator, it tries to discriminate between real and fake (generated) samples\n",
    "        discriminator.zero_grad()\n",
    "        outputs = discriminator(images)\n",
    "        loss_real = criterion(outputs, labels_real)\n",
    "\n",
    "        z = Variable(torch.randn(batch_size, 100))\n",
    "        images_fake = generator(z)\n",
    "        outputs = discriminator(images_fake.detach())\n",
    "        loss_fake = criterion(outputs, labels_fake)\n",
    "\n",
    "        loss_d = loss_real + loss_fake              # Calculate the total loss\n",
    "        loss_d.backward()                           # Backpropagation\n",
    "        optimizer_d.step()                          # Update the weights\n",
    "\n",
    "        # Train the generator, it tries to fool the discriminator\n",
    "        # Draw samples from the input distribution and pass to generator\n",
    "        z = Variable(torch.randn(batch_size, 100))\n",
    "        images_fake = generator(z)\n",
    "\n",
    "        # Pass the genrated images to discriminator\n",
    "        outputs = discriminator(images_fake)\n",
    "\n",
    "        generator.zero_grad()\n",
    "        loss_g = criterion(outputs, labels_real)    # Calculate the loss\n",
    "        loss_g.backward()                           # Backpropagation\n",
    "        optimizer_g.step()                          # Update the weights\n",
    "\n",
    "        if not n%10:\n",
    "            print('epoch: {} - loss_d: {} - loss_g: {}'.format(ep, loss_d.data[0], loss_g.data[0]))\n",
    "\n",
    "    # Save the test results after each Epoch\n",
    "    print('Iter-{}; D_loss: {}; G_loss: {}'.format(ep, loss_d.data.cpu().numpy(), loss_g.data.numpy()))\n",
    "    dis_loss.append(loss_d.data.numpy())\n",
    "    gen_loss.append(loss_g.data.numpy())"
   ]
  },
  {
   "cell_type": "code",
   "execution_count": 11,
   "metadata": {},
   "outputs": [],
   "source": [
    "import pickle\n",
    "with open(\"./out-pytorch-gan/losses_pickles/genloss.pkl\",\"wb\") as f:\n",
    "    pickle.dump(gen_loss,f)\n",
    "    "
   ]
  },
  {
   "cell_type": "code",
   "execution_count": 12,
   "metadata": {},
   "outputs": [],
   "source": [
    "with open(\"./out-pytorch-gan/losses_pickles/disloss.pkl\",\"wb\") as f:\n",
    "    pickle.dump(dis_loss,f)"
   ]
  },
  {
   "cell_type": "code",
   "execution_count": 7,
   "metadata": {},
   "outputs": [
    {
     "data": {
      "image/png": "[encoded data removed]",
      "text/plain": [
       "<matplotlib.figure.Figure at 0x7f4ed06eab50>"
      ]
     },
     "metadata": {},
     "output_type": "display_data"
    },
    {
     "data": {
      "image/png": "[encoded data removed]",
      "text/plain": [
       "<matplotlib.figure.Figure at 0x7f4ed07d8fd0>"
      ]
     },
     "metadata": {},
     "output_type": "display_data"
    }
   ],
   "source": [
    "import matplotlib.pyplot as plt\n",
    "plt.plot(g_loss)\n",
    "plt.show()\n",
    "\n",
    "plt.plot(d_loss)\n",
    "plt.show()"
   ]
  },
  {
   "cell_type": "code",
   "execution_count": null,
   "metadata": {},
   "outputs": [],
   "source": []
  }
 ],
 "metadata": {
  "kernelspec": {
   "display_name": "Python 2",
   "language": "python",
   "name": "python2"
  },
  "language_info": {
   "codemirror_mode": {
    "name": "ipython",
    "version": 2
   },
   "file_extension": ".py",
   "mimetype": "text/x-python",
   "name": "python",
   "nbconvert_exporter": "python",
   "pygments_lexer": "ipython2",
   "version": "2.7.12"
  }
 },
 "nbformat": 4,
 "nbformat_minor": 2
}
